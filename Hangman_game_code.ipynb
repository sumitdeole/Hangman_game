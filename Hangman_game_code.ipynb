{
  "nbformat": 4,
  "nbformat_minor": 0,
  "metadata": {
    "colab": {
      "provenance": []
    },
    "kernelspec": {
      "name": "python3",
      "display_name": "Python 3"
    },
    "language_info": {
      "name": "python"
    }
  },
  "cells": [
    {
      "cell_type": "markdown",
      "source": [
        "# 1. Import packages"
      ],
      "metadata": {
        "id": "S_TBvpM5wUNq"
      }
    },
    {
      "cell_type": "code",
      "source": [
        "import nltk\n",
        "import random\n",
        "import importlib\n",
        "\n",
        "# Check if pyinputplus is installed\n",
        "try:\n",
        "    importlib.import_module('pyinputplus')\n",
        "except ImportError:\n",
        "    # Install pyinputplus if not installed\n",
        "    import subprocess\n",
        "    subprocess.call(['pip', 'install', 'pyinputplus'])\n",
        "\n",
        "# Now you can import pyinputplus safely\n",
        "import pyinputplus as pyip"
      ],
      "metadata": {
        "id": "yjV28ErcwXo4"
      },
      "execution_count": 28,
      "outputs": []
    },
    {
      "cell_type": "markdown",
      "source": [
        "# 2. Set up the words dictionary"
      ],
      "metadata": {
        "id": "HV6x5RFOwYhQ"
      }
    },
    {
      "cell_type": "code",
      "source": [
        "# Downloads English words dataset from NLTK\n",
        "nltk.download('words')\n",
        "\n",
        "# Function to generate a random word of length 6\n",
        "def generate_random_word():\n",
        "    word_list = nltk.corpus.words.words()\n",
        "    valid_words = [word for word in word_list if len(word) == 6]  # remove this restriction to make word selection flexible and also add more steps to the hangman graphics\n",
        "    random_word = random.choice(valid_words)\n",
        "    return random_word"
      ],
      "metadata": {
        "colab": {
          "base_uri": "https://localhost:8080/"
        },
        "id": "2rk84Wi9t569",
        "outputId": "09bd4ad0-e892-4beb-d432-30145d569a31"
      },
      "execution_count": 29,
      "outputs": [
        {
          "output_type": "stream",
          "name": "stderr",
          "text": [
            "[nltk_data] Downloading package words to /root/nltk_data...\n",
            "[nltk_data]   Package words is already up-to-date!\n"
          ]
        }
      ]
    },
    {
      "cell_type": "markdown",
      "source": [
        "# 3. Define main function"
      ],
      "metadata": {
        "id": "jj7Fr8hhzYeG"
      }
    },
    {
      "cell_type": "code",
      "source": [
        "# Function to play the Hangman game\n",
        "def play_hangman():\n",
        "    while True:\n",
        "        # Generate a random word and convert it to lowercase\n",
        "        random_word = generate_random_word()\n",
        "        word = random_word.lower()\n",
        "        hidden_word = '-' * len(word)\n",
        "        print(f\"Hidden word is '{hidden_word}'\")\n",
        "\n",
        "        # Dictionary representing the Hangman stages\n",
        "        hangman = {\n",
        "            0: '''\n",
        "                ____________\n",
        "                 |''',\n",
        "            1: '''\n",
        "                ____________\n",
        "                 |\n",
        "                 O''',\n",
        "            2: '''\n",
        "                ____________\n",
        "                 |\n",
        "                 O\n",
        "                /''',\n",
        "            3: '''\n",
        "                ____________\n",
        "                 |\n",
        "                 O\n",
        "                / \\\\''',\n",
        "            4: '''\n",
        "                ____________\n",
        "                 |\n",
        "                 O\n",
        "                / \\\\\n",
        "                 |''',\n",
        "            5: '''\n",
        "                ____________\n",
        "                 |\n",
        "                 O\n",
        "                / \\\\\n",
        "                 |\n",
        "                /''',\n",
        "            6: '''\n",
        "                ____________\n",
        "                 |\n",
        "                 O\n",
        "                / \\\\\n",
        "                 |\n",
        "                / \\\\ '''\n",
        "        }\n",
        "\n",
        "        # Display a separator\n",
        "        print(\"/-------------------------------------------------------------------------------------------------------/\")\n",
        "\n",
        "        # Initialize game variables\n",
        "        attempts = 0\n",
        "        mistake_count = len(word)  # Change this value, if you want to improve your odds.\n",
        "        given_inputs = []\n",
        "\n",
        "        # Main game loop\n",
        "        while attempts < mistake_count:\n",
        "            while word != hidden_word:\n",
        "                picked_letter = pyip.inputStr(\"Pick a letter: \")\n",
        "                picked_letter = picked_letter.lower()\n",
        "\n",
        "                if picked_letter.isalpha():\n",
        "                    if picked_letter not in given_inputs:\n",
        "                        given_inputs.append(picked_letter)\n",
        "                        print('New Input!')\n",
        "\n",
        "                        if picked_letter in word:\n",
        "                            letter_index = word.index(picked_letter)\n",
        "                            print(letter_index)\n",
        "                            hidden_word = hidden_word[:letter_index] + picked_letter + hidden_word[letter_index + 1:]\n",
        "                            print(hidden_word)\n",
        "                            print(\"CORRECT\")\n",
        "\n",
        "                            letter_count = word.count(picked_letter)\n",
        "                            if letter_count > 1:\n",
        "                                print(f\"The letter is present {letter_count} times\")\n",
        "                                index_list = find(word, picked_letter)\n",
        "                                print(index_list)\n",
        "                                for i in index_list:\n",
        "                                    hidden_word = hidden_word[:i] + picked_letter + hidden_word[i + 1:]\n",
        "                                    print(hidden_word)\n",
        "                        else:\n",
        "                            attempts += 1\n",
        "                            print(f\"WRONG! Number of mistakes left {mistake_count - attempts}\")\n",
        "                            print(hangman[attempts])\n",
        "\n",
        "                            if attempts == mistake_count:\n",
        "                                print(f\"Maximum wrong attempts ({mistake_count}) reached. HANGED!!\")\n",
        "                                break\n",
        "                    else:\n",
        "                        print('Input repeated. Please enter another letter')\n",
        "                else:\n",
        "                    print(\"Please enter alphabets only...\")\n",
        "            else:\n",
        "                print(\"Congratulations!\")\n",
        "                break\n",
        "\n",
        "        # Ask the user if they want to play again\n",
        "        replay = pyip.inputYesNo(\"Do you want to play again? (yes/no): \")\n",
        "        if replay.lower() != 'yes':\n",
        "            break\n",
        "\n",
        "# Function to find the indexes of a character in the string\n",
        "def find(s, ch):\n",
        "    return [i for i, ltr in enumerate(s) if ltr == ch]"
      ],
      "metadata": {
        "id": "dn3LRSIKt84q"
      },
      "execution_count": 30,
      "outputs": []
    },
    {
      "cell_type": "markdown",
      "source": [
        "# 4. Play the game!"
      ],
      "metadata": {
        "id": "T8GyDq51zjg8"
      }
    },
    {
      "cell_type": "code",
      "source": [
        "# Call the play_hangman function to start the game\n",
        "play_hangman()"
      ],
      "metadata": {
        "colab": {
          "base_uri": "https://localhost:8080/"
        },
        "id": "wAYONY2jtXz0",
        "outputId": "1bdc97c6-4354-4848-df53-8751d40ffd9e"
      },
      "execution_count": 31,
      "outputs": [
        {
          "name": "stdout",
          "output_type": "stream",
          "text": [
            "Hidden word is '------'\n",
            "/-------------------------------------------------------------------------------------------------------/\n",
            "Pick a letter: a\n",
            "New Input!\n",
            "2\n",
            "--a---\n",
            "CORRECT\n",
            "Pick a letter: q\n",
            "New Input!\n",
            "WRONG! Number of mistakes left 5\n",
            "\n",
            "                ____________\n",
            "                 |\n",
            "                 O\n",
            "Pick a letter: w\n",
            "New Input!\n",
            "WRONG! Number of mistakes left 4\n",
            "\n",
            "                ____________\n",
            "                 |\n",
            "                 O\n",
            "                /\n",
            "Pick a letter: e\n",
            "New Input!\n",
            "0\n",
            "e-a---\n",
            "CORRECT\n",
            "The letter is present 2 times\n",
            "[0, 5]\n",
            "e-a---\n",
            "e-a--e\n",
            "Pick a letter: r\n",
            "New Input!\n",
            "WRONG! Number of mistakes left 3\n",
            "\n",
            "                ____________\n",
            "                 |\n",
            "                 O\n",
            "                / \\\n",
            "Pick a letter: t\n",
            "New Input!\n",
            "WRONG! Number of mistakes left 2\n",
            "\n",
            "                ____________\n",
            "                 |\n",
            "                 O\n",
            "                / \\\n",
            "                 |\n",
            "Pick a letter: z\n",
            "New Input!\n",
            "WRONG! Number of mistakes left 1\n",
            "\n",
            "                ____________\n",
            "                 |\n",
            "                 O\n",
            "                / \\\n",
            "                 |\n",
            "                /\n",
            "Pick a letter: u\n",
            "New Input!\n",
            "WRONG! Number of mistakes left 0\n",
            "\n",
            "                ____________\n",
            "                 |\n",
            "                 O\n",
            "                / \\\n",
            "                 |\n",
            "                / \\ \n",
            "Maximum wrong attempts (6) reached. HANGED!!\n",
            "Do you want to play again? (yes/no): no\n"
          ]
        }
      ]
    }
  ]
}